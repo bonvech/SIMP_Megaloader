{
 "cells": [
  {
   "cell_type": "markdown",
   "metadata": {},
   "source": [
    "## SIPM pulses"
   ]
  },
  {
   "cell_type": "code",
   "execution_count": 1,
   "metadata": {},
   "outputs": [
    {
     "name": "stdout",
     "output_type": "stream",
     "text": [
      "/home/alena/SCIENCE/SIT/Programs/SIMP_Megaloader/Draw_pulses\n",
      "Ср апр 21 01:09:01 MSK 2021\n"
     ]
    }
   ],
   "source": [
    "!pwd\n",
    "!date"
   ]
  },
  {
   "cell_type": "code",
   "execution_count": 3,
   "metadata": {},
   "outputs": [
    {
     "name": "stdout",
     "output_type": "stream",
     "text": [
      "-rw-r--r-- 1 alena alena 107835826 апр 21 01:03 ../data/19041001.001.10.txt\r\n",
      "-rw-r--r-- 1 alena alena         0 апр 21 01:06 ../data/19041001.001.11.txt\r\n",
      "-rw-r--r-- 1 alena alena 157039182 апр 21 01:02 ../data/19041001.001.12.txt\r\n",
      "-rw-r--r-- 1 alena alena    303350 апр 21 01:02 ../data/19041001.001.13.txt\r\n",
      "-rw-r--r-- 1 alena alena  27504187 апр 21 01:02 ../data/SIPMZynq_v1_192.168.1.200.bin.txt\r\n",
      "-rw-r--r-- 1 alena alena    134463 апр 14 06:28 ../data/SIPMZynq_v1_192.168.1.200_header.txt\r\n",
      "-rw-r--r-- 1 alena alena   2484337 апр 14 06:28 ../data/SIPMZynq_v1_192.168.1.200.txt\r\n"
     ]
    }
   ],
   "source": [
    "!ls -l ../data/*.txt"
   ]
  },
  {
   "cell_type": "code",
   "execution_count": 4,
   "metadata": {},
   "outputs": [],
   "source": [
    "%matplotlib inline\n",
    "import numpy as np\n",
    "import pandas as pd\n",
    "import matplotlib.pyplot as plt\n",
    "import matplotlib\n",
    "import matplotlib.gridspec as gridspec"
   ]
  },
  {
   "cell_type": "code",
   "execution_count": 5,
   "metadata": {},
   "outputs": [],
   "source": [
    "plt.rcParams['figure.figsize'] =(12,6)\n",
    "plt.rcParams['lines.markersize'] = 3\n",
    "plt.rcParams['lines.markeredgewidth'] = 1\n",
    "plt.rcParams['lines.linewidth'] = 1\n",
    "plt.rcParams['grid.alpha'] = 0.7\n",
    "plt.rcParams['xtick.direction'] = 'in'\n",
    "plt.rcParams['ytick.direction'] = 'in'\n",
    "plt.rcParams['font.size'] = 12"
   ]
  },
  {
   "cell_type": "code",
   "execution_count": null,
   "metadata": {},
   "outputs": [],
   "source": [
    "## read file\n",
    "filename = '../data/19041001.001.10.txt'\n",
    "datum = pd.read_csv(filename, header = None, index_col=False, sep='\\s+')\n"
   ]
  },
  {
   "cell_type": "code",
   "execution_count": null,
   "metadata": {},
   "outputs": [],
   "source": []
  }
 ],
 "metadata": {
  "kernelspec": {
   "display_name": "Python 3",
   "language": "python",
   "name": "python3"
  },
  "language_info": {
   "codemirror_mode": {
    "name": "ipython",
    "version": 3
   },
   "file_extension": ".py",
   "mimetype": "text/x-python",
   "name": "python",
   "nbconvert_exporter": "python",
   "pygments_lexer": "ipython3",
   "version": "3.7.4"
  }
 },
 "nbformat": 4,
 "nbformat_minor": 4
}
